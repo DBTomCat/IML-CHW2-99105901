{
  "cells": [
    {
      "attachments": {},
      "cell_type": "markdown",
      "metadata": {
        "id": "j5uereX7Mkpx"
      },
      "source": [
        "<h1 align=\"center\">An Introduction to Machine Learning - 25737</h1>\n",
        "<h4 align=\"center\">Dr. Sajjad Amini</h4>\n",
        "<h4 align=\"center\">Sharif University of Technology, Spring 2023</h4>\n",
        "\n",
        "**Student Name**: Amirhossein Akbari\n",
        "\n",
        "**Student ID**: 99105901\n",
        "\n",
        "# Classification\n",
        "\n",
        "In this question, we will examine classification algorithms. We do not need to implement the algorithms; instead, we will use the functions available in the `scikit-learn` library to solve the question."
      ]
    },
    {
      "cell_type": "markdown",
      "metadata": {
        "id": "ZZM6ukbVNXsR"
      },
      "source": [
        "## Importing Libraries\n",
        "\n",
        "First, we import all required libraries.\n",
        "\n",
        "**Attention**: You should only use these libraries. Other libraries are not acceptable."
      ]
    },
    {
      "cell_type": "code",
      "execution_count": 55,
      "metadata": {
        "id": "cVcSib9xMcYs"
      },
      "outputs": [],
      "source": [
        "import numpy as np\n",
        "import pandas as pd\n",
        "from sklearn.datasets import load_breast_cancer\n",
        "from sklearn.model_selection import train_test_split\n",
        "from sklearn.linear_model import LogisticRegression\n",
        "from sklearn.discriminant_analysis import LinearDiscriminantAnalysis\n",
        "from sklearn.naive_bayes import GaussianNB"
      ]
    },
    {
      "attachments": {},
      "cell_type": "markdown",
      "metadata": {
        "id": "1j8Wkh1_R3if"
      },
      "source": [
        "## Loading Data\n",
        "\n",
        "In this question, we will use the **Breast Cancer** dataset from `scikit-learn`. You can run the following cell to load the dataset:"
      ]
    },
    {
      "cell_type": "code",
      "execution_count": 56,
      "metadata": {
        "id": "JwrbBNTJSKmw"
      },
      "outputs": [
        {
          "name": "stdout",
          "output_type": "stream",
          "text": [
            "(569, 30)\n",
            "(569,)\n"
          ]
        }
      ],
      "source": [
        "data = load_breast_cancer() # loading cancer data\n",
        "\n",
        "X = data.data # features\n",
        "Y = data.target # labels \n",
        "\n",
        "# printing size of the features and targets\n",
        "print(X.shape)\n",
        "print(Y.shape)"
      ]
    },
    {
      "cell_type": "markdown",
      "metadata": {
        "id": "H8wrGIzsSh0g"
      },
      "source": [
        "Now you should use `train_test_split` function to split dataset into three parts:\n",
        "\n",
        "- 70% for the training set\n",
        "- 20% for the validation set\n",
        "- 10% for the test set\n",
        "\n",
        "Do this in the cell below."
      ]
    },
    {
      "cell_type": "code",
      "execution_count": 57,
      "metadata": {
        "id": "BxGOZp_OS8-y"
      },
      "outputs": [],
      "source": [
        "X_train, Y_train, X_val, Y_val, X_test, Y_test = None, None, None, None, None, None\n",
        "\n",
        "### START CODE HERE ###\n",
        "X_train, X_val, Y_train, Y_val = train_test_split(X, Y, test_size=0.3)\n",
        "X_val, X_test, Y_val, Y_test = train_test_split(X_val, Y_val, test_size=0.33)\n",
        "### END CODE HERE ###"
      ]
    },
    {
      "attachments": {},
      "cell_type": "markdown",
      "metadata": {
        "id": "8PQZhqrxTOUG"
      },
      "source": [
        "## Logistic Regression\n",
        "\n",
        "In this part of the question, you will use the `LogisticRegression` classifier to classify the data. You should change the value of `C`, which is the inverse of the regularization parameter, and find the accuracy on the validation set. Using the validation accuracy, you can find the best value for `C`. Note that you may want to change the solver for faster convergence. The `liblinear` solver is recommended for this problem. You can visit [this link](https://scikit-learn.org/stable/modules/generated/sklearn.linear_model.LogisticRegression.html) for more information about the `LogisticRegression` classifier.\n",
        "\n",
        "**Question**: What is the best value of `C`?\n",
        "\n",
        "**Answer**:"
      ]
    },
    {
      "cell_type": "code",
      "execution_count": 58,
      "metadata": {
        "id": "EO71NefdUAat"
      },
      "outputs": [
        {
          "data": {
            "image/png": "[encoded data removed]",
            "text/plain": [
              "<Figure size 640x480 with 1 Axes>"
            ]
          },
          "metadata": {},
          "output_type": "display_data"
        }
      ],
      "source": [
        "### START CODE HERE ###\n",
        "import matplotlib.pyplot as plt\n",
        "C_max = 0\n",
        "acc_max = 0\n",
        "acc = []\n",
        "C_values = np.arange(0.001, 2, 0.001)\n",
        "for C in C_values:\n",
        "    classifier = LogisticRegression(solver='liblinear', C=C)\n",
        "    classifier.fit(X_train, Y_train)\n",
        "    accuracy = classifier.score(X_val, Y_val)\n",
        "    if accuracy > acc_max:\n",
        "        C_max = C\n",
        "        acc_max = accuracy\n",
        "    acc.append(accuracy / 1)\n",
        "plt.plot(C_values, acc)\n",
        "plt.show()\n",
        "### END CODE HERE ###"
      ]
    },
    {
      "cell_type": "markdown",
      "metadata": {
        "id": "eoHaii2pU8wZ"
      },
      "source": [
        "Now use your best classifier to calculate the accuracy on the test set.\n",
        "\n",
        "**Qusetion**: What is the accuracy of this classifier on test set?\n",
        "\n",
        "**Answer**:"
      ]
    },
    {
      "cell_type": "code",
      "execution_count": 61,
      "metadata": {
        "id": "jcZUGS6WVP75"
      },
      "outputs": [
        {
          "name": "stdout",
          "output_type": "stream",
          "text": [
            "Best C = 0.552  Max Validation Accuracy: 0.9473684210526315\n"
          ]
        }
      ],
      "source": [
        "### START CODE HERE ###\n",
        "C = C_max\n",
        "classifier = LogisticRegression(solver='liblinear', C=C)\n",
        "classifier.fit(X_train, Y_train)\n",
        "accuracy = classifier.score(X_test, Y_test)\n",
        "print(\"Best C =\", C, \" Max Validation Accuracy:\", accuracy)\n",
        "### END CODE HERE ###"
      ]
    },
    {
      "attachments": {},
      "cell_type": "markdown",
      "metadata": {
        "id": "3lKNbTnjVQgU"
      },
      "source": [
        "For this additional part, you can use only the first two features of the dataset to classify the data and then draw the data points and the boundary on a figure. You can use the [tutorial](https://aleksandarhaber.com/solve-classification-problems-in-python-scikit-learn-and-visualize-the-classification-results-machine-learning-tutorial/?utm_source=rss&utm_medium=rss&utm_campaign=solve-classification-problems-in-python-scikit-learn-and-visualize-the-classification-results-machine-learning-tutorial) provided to learn how to do this. You may need to use additional libraries such as `matplotlib` specifically for this part."
      ]
    },
    {
      "cell_type": "code",
      "execution_count": 32,
      "metadata": {
        "id": "H149H3EIVmvn"
      },
      "outputs": [],
      "source": [
        "### START CODE HERE ###\n",
        "def visualizeClassificationAreas(usedClassifier,XtrainSet, ytrainSet,XtestSet, ytestSet, plotDensity=0.01 ):\n",
        "    '''\n",
        "    This function visualizes the classification regions on the basis of the provided data\n",
        " \n",
        "    usedClassifier      - used classifier\n",
        " \n",
        "    XtrainSet,ytrainSet - train sets of features and target classes \n",
        "                    - the region colors correspond to to the class numbers in ytrainSet\n",
        " \n",
        "    XtestSet,ytestSet   - test sets for visualizng the performance on test data that is not used for training\n",
        "                    - this is optional argument provided if the test data is available\n",
        " \n",
        "    plotDensity         - density of the area plot, smaller values are making denser and more precise plots\n",
        " \n",
        "    IMPORTANT COMMENT:  -If the number of classes is larger than the number of elements in the list \n",
        "                    caller \"colorList\", you need to increase the number of colors in \n",
        "                    \"colorList\"\n",
        "                    - The same comment applies to \"markerClass\" list defined below\n",
        " \n",
        "    '''\n",
        "    import numpy as np\n",
        "    import matplotlib.pyplot as plt    \n",
        "    # this function is used to create a \"cmap\" color object that is used to distinguish different classes\n",
        "    from matplotlib.colors import ListedColormap \n",
        "     \n",
        "    # this list is used to distinguish different classification regions\n",
        "    # every color corresponds to a certain class number\n",
        "    colorList=[\"blue\", \"green\", \"orange\", \"magenta\", \"purple\", \"red\"]\n",
        "    # this list of markers is used to distingush between different classe\n",
        "    # every symbol corresponds to a certain class number\n",
        "    markerClass=['x','o','v','#','*','>']\n",
        "     \n",
        "    # get the number of different classes \n",
        "    classesNumbers=np.unique(ytrainSet)\n",
        "    numberOfDifferentClasses=classesNumbers.size\n",
        "                  \n",
        "    # create a cmap object for plotting the decision areas\n",
        "    cmapObject=ListedColormap(colorList, N=numberOfDifferentClasses)\n",
        "                  \n",
        "    # get the limit values for the total plot\n",
        "    x1featureMin=min(XtrainSet[:,0].min(),XtestSet[:,0].min())-0.5\n",
        "    x1featureMax=max(XtrainSet[:,0].max(),XtestSet[:,0].max())+0.5\n",
        "    x2featureMin=min(XtrainSet[:,1].min(),XtestSet[:,1].min())-0.5\n",
        "    x2featureMax=max(XtrainSet[:,1].max(),XtestSet[:,1].max())+0.5\n",
        "         \n",
        "    # create the meshgrid data for the classifier\n",
        "    x1meshGrid,x2meshGrid = np.meshgrid(np.arange(x1featureMin,x1featureMax,plotDensity),np.arange(x2featureMin,x2featureMax,plotDensity))\n",
        "         \n",
        "    # basically, we will determine the regions by creating artificial train data \n",
        "    # and we will call the classifier to determine the classes\n",
        "    XregionClassifier = np.array([x1meshGrid.ravel(),x2meshGrid.ravel()]).T\n",
        "    # call the classifier predict to get the classes\n",
        "    predictedClassesRegion=usedClassifier.predict(XregionClassifier)\n",
        "    # the previous code lines return the vector and we need the matrix to be able to plot\n",
        "    predictedClassesRegion=predictedClassesRegion.reshape(x1meshGrid.shape)\n",
        "    # here we plot the decision areas\n",
        "    # there are two subplots - the left plot will plot the decision areas and training samples\n",
        "    # the right plot will plot the decision areas and test samples\n",
        "    fig, ax = plt.subplots(1,2,figsize=(15,8))\n",
        "    ax[0].contourf(x1meshGrid,x2meshGrid,predictedClassesRegion,alpha=0.3,cmap=cmapObject)\n",
        "    ax[1].contourf(x1meshGrid,x2meshGrid,predictedClassesRegion,alpha=0.3,cmap=cmapObject)\n",
        "     \n",
        "    # scatter plot of features belonging to the data set \n",
        "    for index1 in np.arange(numberOfDifferentClasses):\n",
        "        ax[0].scatter(XtrainSet[ytrainSet==classesNumbers[index1],0],XtrainSet[ytrainSet==classesNumbers[index1],1], \n",
        "                   alpha=1, c=colorList[index1], marker=markerClass[index1], \n",
        "                   label=\"Class {}\".format(classesNumbers[index1]), edgecolor='black', s=80)\n",
        "         \n",
        "        ax[1].scatter(XtestSet[ytestSet==classesNumbers[index1],0],XtestSet[ytestSet==classesNumbers[index1],1], \n",
        "                   alpha=1, c=colorList[index1], marker=markerClass[index1],\n",
        "                   label=\"Class {}\".format(classesNumbers[index1]), edgecolor='black', s=80)\n",
        "         \n",
        "    ax[0].set_xlabel(\"Feature X1\",fontsize=14)\n",
        "    ax[0].set_ylabel(\"Feature X2\",fontsize=14)\n",
        "    ax[0].text(0.05, 0.05, \"Decision areas and training samples\", transform=ax[0].transAxes, fontsize=14, verticalalignment='bottom')\n",
        "    ax[0].legend(fontsize=14)\n",
        "     \n",
        "    ax[1].set_xlabel(\"Feature X1\",fontsize=14)\n",
        "    ax[1].set_ylabel(\"Feature X2\",fontsize=14)\n",
        "    ax[1].text(0.05, 0.05, \"Decision areas and test samples\", transform=ax[1].transAxes, fontsize=14, verticalalignment='bottom')\n",
        "    #ax[1].legend()\n",
        "    plt.savefig('classification_results.png')\n",
        "    \n",
        "### END CODE HERE ###"
      ]
    },
    {
      "attachments": {},
      "cell_type": "markdown",
      "metadata": {
        "id": "UoIWVF51V4BY"
      },
      "source": [
        "## Naive Bayes\n",
        "\n",
        "In this part, you will use the `GaussianNB` classifier to classify the data. You should not change the default parameters of this classifier. First, train the classifier on the training set and then find the accuracy of it on the test set.\n",
        "\n",
        "**Question**: What is the accuracy of this method on test set?\n",
        "\n",
        "**Answer**:"
      ]
    },
    {
      "cell_type": "code",
      "execution_count": 62,
      "metadata": {
        "id": "HdPBdhTOV3m1"
      },
      "outputs": [
        {
          "name": "stdout",
          "output_type": "stream",
          "text": [
            "0.9122807017543859\n"
          ]
        }
      ],
      "source": [
        "### START CODE HERE ###\n",
        "clf = GaussianNB()\n",
        "clf.fit(X_train, Y_train)\n",
        "print(clf.score(X_test, Y_test))\n",
        "### END CODE HERE ###"
      ]
    },
    {
      "attachments": {},
      "cell_type": "markdown",
      "metadata": {
        "id": "9l-KmLh-WWtP"
      },
      "source": [
        "## LDA (Linear Discriminant Analysis)\n",
        "\n",
        "In this part, you will use the `LinearDiscriminantAnalysis` classifier to classify the data. You should not change the default parameters of this classifier. First, train the classifier on the training set and then find the accuracy of it on the test set.\n",
        "\n",
        "**Question**: What is the accuracy of this method on test set?\n",
        "\n",
        "**Answer**:"
      ]
    },
    {
      "cell_type": "code",
      "execution_count": 63,
      "metadata": {
        "id": "GF5RAdxWWs8Y"
      },
      "outputs": [
        {
          "name": "stdout",
          "output_type": "stream",
          "text": [
            "0.9298245614035088\n"
          ]
        }
      ],
      "source": [
        "### START CODE HERE ###\n",
        "clf = LinearDiscriminantAnalysis()\n",
        "clf.fit(X_train, Y_train)\n",
        "print(clf.score(X_test, Y_test))\n",
        "### END CODE HERE ###"
      ]
    },
    {
      "attachments": {},
      "cell_type": "markdown",
      "metadata": {
        "id": "yUwTuO5wW0FI"
      },
      "source": [
        "## Conclution\n",
        "\n",
        "**Question**: What is the best method for classifying this dataset? What is the best accuracy on the test set?\n",
        "\n",
        "**Answer**: It seems logistic Regression performs better than two others. Logistic regression is computationally efficient and interpretable, making it a popular choice for binary classification problems like breast cancer detection."
      ]
    }
  ],
  "metadata": {
    "colab": {
      "provenance": []
    },
    "kernelspec": {
      "display_name": "Python 3",
      "name": "python3"
    },
    "language_info": {
      "codemirror_mode": {
        "name": "ipython",
        "version": 3
      },
      "file_extension": ".py",
      "mimetype": "text/x-python",
      "name": "python",
      "nbconvert_exporter": "python",
      "pygments_lexer": "ipython3",
      "version": "3.10.9"
    }
  },
  "nbformat": 4,
  "nbformat_minor": 0
}
